{
 "cells": [
  {
   "cell_type": "code",
   "execution_count": null,
   "id": "3fadd49a",
   "metadata": {},
   "outputs": [
    {
     "name": "stdout",
     "output_type": "stream",
     "text": [
      "<class 'pandas.core.frame.DataFrame'>\n",
      "RangeIndex: 1338 entries, 0 to 1337\n",
      "Data columns (total 7 columns):\n",
      " #   Column    Non-Null Count  Dtype  \n",
      "---  ------    --------------  -----  \n",
      " 0   age       1338 non-null   int64  \n",
      " 1   sex       1338 non-null   object \n",
      " 2   bmi       1338 non-null   float64\n",
      " 3   children  1338 non-null   int64  \n",
      " 4   smoker    1338 non-null   object \n",
      " 5   region    1338 non-null   object \n",
      " 6   charges   1338 non-null   float64\n",
      "dtypes: float64(2), int64(2), object(3)\n",
      "memory usage: 73.3+ KB\n"
     ]
    }
   ],
   "source": [
    "#using the insurance.csv file\n",
    "import pandas as pd\n",
    "import numpy as np\n",
    "import matplotlib.pyplot as plt\n",
    "import seaborn as sns\n",
    "import plotly.express as px\n",
    "from sklearn.preprocessing import LabelEncoder, OneHotEncoder\n",
    "\n",
    "\n",
    "\n",
    "df= pd.read_csv(r\"C:\\\\Users\\meet_\\OneDrive\\Documents\\vscode-projects\\My-Individual-Project\\jupyter_notebooks\\Source Data\\insurance.csv\")\n",
    "df = df.copy()\n",
    "df.head()\n",
    "\n",
    "df.isnull().sum()\n",
    "df.shape\n",
    "df.info()\n",
    "\n",
    "df['smoker'] = df['smoker'].str.lower()\n",
    "\n",
    "#Hypothesis 1 = Smoking has a direct impact on weight gain\n",
    "\n",
    "\"\"\" \n",
    "Function to group BMI values in line with NHS defintions\n",
    "\n",
    "\"\"\"\n",
    "\n",
    "def bmi_group(bmi):\n",
    "    if bmi < 18.5:\n",
    "        return \"underweight\"\n",
    "    elif 18.5 <= bmi < 24.9:\n",
    "        return \"normal weight\"\n",
    "    elif 25 <= bmi < 29.9:\n",
    "        return \"overweight\"\n",
    "    else:\n",
    "        return \"obese\"\n",
    "    \n",
    "#add a new column in the df to group the bmi values\n",
    "df[\"bmi_category\"] = df[\"bmi\"].apply(bmi_group)\n",
    "df.head(25)\n",
    "\n",
    "\"\"\"\n",
    "Function to return a count of the bmi category for smokers\n",
    "\"\"\"\n",
    "def smoker_bmi_count(df): \n",
    "     smokers = df[df['smoker'] == \"yes\"]\n",
    "     vc = smokers[\"bmi_category\"].value_counts().reset_index()\n",
    "     vc.columns = [\"bmi_category\",\"count_smoker\"]\n",
    "     return vc\n",
    "\n",
    "\"\"\"\n",
    "Function to return a count of the bmi category for nonsmokers\n",
    "\"\"\"\n",
    "def nonsmoker_bmi_count(df): \n",
    "     non_smokers = df[df['smoker'] == \"no\"]\n",
    "     vc = non_smokers[\"bmi_category\"].value_counts().reset_index()\n",
    "     vc.columns = [\"bmi_category\",\"count_nonsmoker\"]\n",
    "     return vc    \n",
    "\n",
    "\n",
    "\n",
    "smoker_bmi_df = smoker_bmi_count(df)\n",
    "nonsmoker_bmi_df = nonsmoker_bmi_count(df)\n"
   ]
  }
 ],
 "metadata": {
  "kernelspec": {
   "display_name": ".venv",
   "language": "python",
   "name": "python3"
  },
  "language_info": {
   "codemirror_mode": {
    "name": "ipython",
    "version": 3
   },
   "file_extension": ".py",
   "mimetype": "text/x-python",
   "name": "python",
   "nbconvert_exporter": "python",
   "pygments_lexer": "ipython3",
   "version": "3.12.8"
  }
 },
 "nbformat": 4,
 "nbformat_minor": 5
}
